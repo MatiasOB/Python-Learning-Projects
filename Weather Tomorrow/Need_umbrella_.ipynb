{
 "cells": [
  {
   "cell_type": "code",
   "execution_count": 1,
   "id": "546b968c",
   "metadata": {},
   "outputs": [],
   "source": [
    "api_key = \"d\"\n",
    "\n",
    "MY_LAT = -34.417523\n",
    "MY_LONG = -71.573825\n",
    "\n",
    "#http://jsonviewer.stack.hu/\n",
    "\n",
    "import requests\n",
    "import pandas as pd\n",
    "\n",
    "exclude = \"current,minutely,daily,alerts\"\n",
    "parameters = {\"lat\":MY_LAT,\"lon\":MY_LONG, \"appid\":api_key,\"exclude\":exclude}\n",
    "\n",
    "resp = requests.get(url=\"https://api.openweathermap.org/data/2.5/onecall\",params=parameters)\n",
    "resp.raise_for_status()\n",
    "\n",
    "data = resp.json()[\"hourly\"]\n",
    "\n",
    "\n",
    "df = pd.DataFrame(data)\n",
    "weather = df[\"weather\"]"
   ]
  },
  {
   "cell_type": "code",
   "execution_count": 2,
   "id": "046f2894",
   "metadata": {},
   "outputs": [],
   "source": [
    "weather = weather.apply(pd.Series)"
   ]
  },
  {
   "cell_type": "code",
   "execution_count": 3,
   "id": "a8809244",
   "metadata": {},
   "outputs": [],
   "source": [
    "final_weather = weather[0].apply(pd.Series)"
   ]
  },
  {
   "cell_type": "code",
   "execution_count": 4,
   "id": "76ce765b",
   "metadata": {},
   "outputs": [
    {
     "name": "stdout",
     "output_type": "stream",
     "text": [
      "It will rain!\n",
      "the next hours that will have rain are [1, 4, 5, 6]\n"
     ]
    }
   ],
   "source": [
    "rain = False\n",
    "hours_it_will_rain = []\n",
    "\n",
    "for index, row in final_weather[0:12].iterrows():\n",
    "    if row[\"main\"] == \"Rain\":\n",
    "        rain = True\n",
    "        hours_it_will_rain.append(index + 1)\n",
    "\n",
    "if rain:\n",
    "    print(\"It will rain!\")\n",
    "    print(f\"the next hours that will have rain are {hours_it_will_rain}\")\n",
    "else:\n",
    "    print(\"No rain in the next 12h\")"
   ]
  },
  {
   "cell_type": "code",
   "execution_count": null,
   "id": "7edc80df",
   "metadata": {},
   "outputs": [],
   "source": []
  }
 ],
 "metadata": {
  "hide_input": false,
  "kernelspec": {
   "display_name": "Python 3 (ipykernel)",
   "language": "python",
   "name": "python3"
  },
  "language_info": {
   "codemirror_mode": {
    "name": "ipython",
    "version": 3
   },
   "file_extension": ".py",
   "mimetype": "text/x-python",
   "name": "python",
   "nbconvert_exporter": "python",
   "pygments_lexer": "ipython3",
   "version": "3.9.12"
  }
 },
 "nbformat": 4,
 "nbformat_minor": 5
}
