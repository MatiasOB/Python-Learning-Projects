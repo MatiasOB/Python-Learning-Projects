{
 "cells": [
  {
   "cell_type": "markdown",
   "id": "6a6f4b3b",
   "metadata": {},
   "source": [
    "# Prime number checker"
   ]
  },
  {
   "cell_type": "code",
   "execution_count": 13,
   "id": "9112a237",
   "metadata": {},
   "outputs": [
    {
     "name": "stdout",
     "output_type": "stream",
     "text": [
      "Check this number: 29\n",
      "It's a prime number.\n"
     ]
    }
   ],
   "source": [
    "#Write your code below this line 👇\n",
    "\n",
    "def prime_checker(number):\n",
    "    is_prime = True\n",
    "    for n in range(2,number):\n",
    "        if number%n==0:\n",
    "            is_prime = False\n",
    "    \n",
    "    if is_prime:    \n",
    "        print(\"It's a prime number.\")\n",
    "    else:\n",
    "        print(\"It's not a prime number.\")\n",
    "\n",
    "n = int(input(\"Check this number: \"))\n",
    "prime_checker(number=n)\n"
   ]
  },
  {
   "cell_type": "markdown",
   "id": "e9805ab0",
   "metadata": {},
   "source": [
    "# Caesar Cypher"
   ]
  },
  {
   "cell_type": "code",
   "execution_count": 4,
   "id": "926019f6",
   "metadata": {},
   "outputs": [
    {
     "name": "stdout",
     "output_type": "stream",
     "text": [
      "Type 'encode' to encrypt, type 'decode' to decrypt:\n",
      "matias\n",
      "Invalid Input, Please try again: \n",
      "Type 'encode' to encrypt, type 'decode' to decrypt:\n",
      "encode\n",
      "Type your message: \n",
      "matias\n",
      "Type the shift number:\n",
      "3\n",
      "pdwldv\n",
      "Do you want to go again? (Y/N)y\n",
      "Type 'encode' to encrypt, type 'decode' to decrypt:\n",
      "decode\n",
      "Type the encrypted message : \n",
      "pdwldv\n",
      "Type the shift number:\n",
      "3\n",
      "matias\n",
      "Do you want to go again? (Y/N)n\n"
     ]
    }
   ],
   "source": [
    "letters = ['a', 'b', 'c', 'd', 'e', 'f', 'g', 'h', 'i', 'j', 'k', 'l', 'm', 'n', 'o', 'p', 'q', 'r', 's', 't', 'u', 'v', 'w', 'x', 'y', 'z']*3\n",
    "\n",
    "def encode(text,shift):\n",
    "    \n",
    "    text = text.lower()\n",
    "    encrypted_word = []\n",
    "    \n",
    "    shift = shift % 26\n",
    "    \n",
    "    for n in text:\n",
    "        if n in letters:\n",
    "            cypher_index = letters.index(n) + shift\n",
    "            encrypted_word.append(letters[cypher_index])\n",
    "        else:\n",
    "            encrypted_word.append(n)\n",
    "        \n",
    "    encrypted_word = \"\".join(encrypted_word)\n",
    "    \n",
    "    print(encrypted_word)\n",
    "    \n",
    "def decode(text,shift):\n",
    "    \n",
    "    decoded_word = []\n",
    "    \n",
    "    shift = shift % 26\n",
    "    \n",
    "    for n in text:\n",
    "        if n in letters:\n",
    "            cypher_index = ''.join(letters).rindex(n) - shift\n",
    "            decoded_word.append(letters[cypher_index])\n",
    "        else:\n",
    "            decoded_word.append(n)\n",
    "        \n",
    "    decoded_word = \"\".join(decoded_word)\n",
    "    print(decoded_word)\n",
    "    \n",
    "    \n",
    "def Ceasar_cyper():\n",
    "    \n",
    "    playing = True\n",
    "\n",
    "    while playing:\n",
    "        player = input(\"Type 'encode' to encrypt, type 'decode' to decrypt:\\n\").lower()\n",
    "        \n",
    "        if player not in [\"encode\",\"decode\"]:\n",
    "            print(\"Invalid Input, Please try again: \")\n",
    "            continue\n",
    "        \n",
    "        if player == \"encode\":\n",
    "            plain_text = input(\"Type your message: \\n\")\n",
    "            shift = int(input(\"Type the shift number:\\n\"))\n",
    "            encode(plain_text,shift)\n",
    "        \n",
    "        elif player == \"decode\":\n",
    "            coded_text = input(\"Type the encrypted message : \\n\")\n",
    "            shift = int(input(\"Type the shift number:\\n\"))\n",
    "            decode(coded_text,shift)\n",
    "        \n",
    "        playagain = input(\"Do you want to go again? (Y/N)\").lower()\n",
    "            \n",
    "        if playagain == \"y\":\n",
    "            playing = True\n",
    "        else:\n",
    "            playing = False\n",
    "            \n",
    "\n",
    "Ceasar_cyper()"
   ]
  },
  {
   "cell_type": "code",
   "execution_count": 23,
   "id": "dd7135b8",
   "metadata": {},
   "outputs": [],
   "source": []
  },
  {
   "cell_type": "code",
   "execution_count": 24,
   "id": "c7d618a0",
   "metadata": {},
   "outputs": [],
   "source": []
  },
  {
   "cell_type": "code",
   "execution_count": 41,
   "id": "d540facd",
   "metadata": {},
   "outputs": [
    {
     "data": {
      "text/plain": [
       "6"
      ]
     },
     "execution_count": 41,
     "metadata": {},
     "output_type": "execute_result"
    }
   ],
   "source": []
  },
  {
   "cell_type": "code",
   "execution_count": null,
   "id": "37c9ed18",
   "metadata": {},
   "outputs": [],
   "source": []
  }
 ],
 "metadata": {
  "hide_input": false,
  "kernelspec": {
   "display_name": "Python 3 (ipykernel)",
   "language": "python",
   "name": "python3"
  },
  "language_info": {
   "codemirror_mode": {
    "name": "ipython",
    "version": 3
   },
   "file_extension": ".py",
   "mimetype": "text/x-python",
   "name": "python",
   "nbconvert_exporter": "python",
   "pygments_lexer": "ipython3",
   "version": "3.9.12"
  }
 },
 "nbformat": 4,
 "nbformat_minor": 5
}
