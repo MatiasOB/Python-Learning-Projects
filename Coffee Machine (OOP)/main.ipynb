{
 "cells": [
  {
   "cell_type": "code",
   "execution_count": 3,
   "id": "749f2548",
   "metadata": {},
   "outputs": [],
   "source": [
    "from menu import Menu\n",
    "from coffee_maker import CoffeeMaker\n",
    "from money_machine import MoneyMachine"
   ]
  },
  {
   "cell_type": "code",
   "execution_count": 4,
   "id": "bc69fdb5",
   "metadata": {},
   "outputs": [
    {
     "name": "stdout",
     "output_type": "stream",
     "text": [
      "What Would You Like?(latte/espresso/cappuccino/), check prices(prices), maintenance options(report/off): latte\n",
      "Please insert coins.\n",
      "How many quarters?: 5\n",
      "How many dimes?: 2\n",
      "How many nickles?: 10\n",
      "How many pennies?: 100\n",
      "Here is $0.45 in change.\n",
      "Here is your latte ☕️. Enjoy!\n",
      "What Would You Like?(latte/espresso/cappuccino/), check prices(prices), maintenance options(report/off): off\n"
     ]
    }
   ],
   "source": [
    "\n",
    "menu = Menu()\n",
    "coffemaker = CoffeeMaker()\n",
    "money_machine = MoneyMachine()\n",
    "\n",
    "\n",
    "playing = True\n",
    "while playing:\n",
    "    choice = input(f\"What Would You Like?({menu.get_items()}), check prices(prices), maintenance options(report/off): \").lower()\n",
    "    \n",
    "    if choice not in [\"espresso\", \"latte\", \"cappuccino\", \"report\",\"off\"]:\n",
    "        print(\"Please choose a valid option.\")\n",
    "        continue\n",
    "    elif choice == \"report\":\n",
    "        coffemaker.report()\n",
    "        money_machine.report()\n",
    "        continue\n",
    "    elif choice == \"off\":\n",
    "        print(\"Machine Shutting Down\")\n",
    "        playing = False\n",
    "        break\n",
    "    else:\n",
    "        coffee_kind = menu.find_drink(choice)\n",
    "        \n",
    "        \n",
    "        \n",
    "    if coffemaker.is_resource_sufficient(coffee_kind):\n",
    "        \n",
    "        if money_machine.make_payment(coffee_kind.cost):\n",
    "            coffemaker.make_coffee(coffee_kind)\n",
    "        else:\n",
    "            continue\n",
    "            \n",
    "    else:\n",
    "        continue\n",
    "    \n",
    "        \n",
    "    "
   ]
  },
  {
   "cell_type": "code",
   "execution_count": null,
   "id": "8e9fef41",
   "metadata": {},
   "outputs": [],
   "source": []
  }
 ],
 "metadata": {
  "hide_input": false,
  "kernelspec": {
   "display_name": "Python 3 (ipykernel)",
   "language": "python",
   "name": "python3"
  },
  "language_info": {
   "codemirror_mode": {
    "name": "ipython",
    "version": 3
   },
   "file_extension": ".py",
   "mimetype": "text/x-python",
   "name": "python",
   "nbconvert_exporter": "python",
   "pygments_lexer": "ipython3",
   "version": "3.9.12"
  }
 },
 "nbformat": 4,
 "nbformat_minor": 5
}
